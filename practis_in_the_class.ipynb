{
 "cells": [
  {
   "cell_type": "code",
   "execution_count": 30,
   "metadata": {},
   "outputs": [],
   "source": [
    "\n",
    "import pandas as pd"
   ]
  },
  {
   "cell_type": "code",
   "execution_count": null,
   "metadata": {},
   "outputs": [],
   "source": [
    "df = pd.read_csv('anes96.csv', index_col='educ') \n",
    "df.head(7)  "
   ]
  },
  {
   "cell_type": "code",
   "execution_count": null,
   "metadata": {},
   "outputs": [],
   "source": [
    "#Основные функции в Pandas\n",
    "\n",
    "df.columns #name columns\n",
    "df.info() #краткая информация о базе данных\n",
    "df.describe() #числовая статистика данных\n",
    "df.index #Индекс в фрейме данных Pandas предоставляет возможность идентифицировать каждую строку\n",
    "df.tail() #используется для получения последних n строк\n",
    "df.head() #в скобочках можеим указать любое значение, которое нам нужно выписать\n",
    "df.dtypes #тип данных\n",
    "\n",
    "df.loc[:, ['Survived', 'Age']] #обращаемся к контретному значению по индексу\n",
    "df[df['Servived'] == 1] #Выборка по конкретному значению\n",
    "df['Pclass'].isin([1, 2]) #узнаем входит ли в промежуток данное значение"
   ]
  },
  {
   "cell_type": "markdown",
   "metadata": {},
   "source": [
    "#### .describe()\n",
    "\n",
    "Describe — это функция в Pandas, которая оценивает столбцы с числовым типом данных (int или float) и возвращает статистические данные, которые дают представление о распределении значений.\n",
    "\n",
    "#### .loc()\n",
    "\n",
    "DataFrame.loc[] осуществляет доступ к группе строк и столбцов по их индексным меткам или может использоваться с логическим массивом."
   ]
  },
  {
   "cell_type": "code",
   "execution_count": null,
   "metadata": {},
   "outputs": [],
   "source": [
    "#отбор данных в датаврейме\n",
    "\n",
    "df.loc[df.values_1 > 2, :] #смотрим строки и колоночки"
   ]
  },
  {
   "cell_type": "code",
   "execution_count": null,
   "metadata": {},
   "outputs": [],
   "source": [
    "df.groupby('Sex') #сортировка по полу\n",
    "df.groupby('educ').count() #количество по заданному критерию\n",
    "df.groupby('educ')[['age', 'income']].mean() #помогает вычислить среднее значение age и income, исходя из набора educ"
   ]
  },
  {
   "cell_type": "code",
   "execution_count": null,
   "metadata": {},
   "outputs": [],
   "source": [
    "df.loc[df['Age'] < 18]['AgeGroup'] = 'Child' #Группировка по нескольким столбцам "
   ]
  },
  {
   "cell_type": "code",
   "execution_count": null,
   "metadata": {},
   "outputs": [],
   "source": [
    "def creat_age_group(age):\n",
    "    if age < 18:\n",
    "        return 'Child'\n",
    "    else:\n",
    "        return 'Adult' \n",
    "    \n",
    "df['AgeGroup'] = df['Age'].apply(creat_age_group) #создаем дополнительный столбецц по возрасту "
   ]
  },
  {
   "cell_type": "code",
   "execution_count": null,
   "metadata": {},
   "outputs": [],
   "source": [
    "import pandas as pd\n",
    "import numpy as np"
   ]
  },
  {
   "cell_type": "code",
   "execution_count": null,
   "metadata": {},
   "outputs": [],
   "source": [
    "#Создаем DataFrame\n",
    "\n",
    "df = pd.DataFrame(\n",
    "    {\n",
    "      'values_1': [1.2, 1.2, 3.7, 5.6],\n",
    "      'values_2': [1.2, 1.2, 4.8, 9.3],\n",
    "      'values_3': [1.2, 1.2, 3.2, np.nan],\n",
    "      'group': ['A', 'A', 'B', 'B']  \n",
    "    }\n",
    ")\n",
    "df.index = ['student_1', 'student_2', 'student_3', 'student_4']\n",
    "df"
   ]
  },
  {
   "cell_type": "code",
   "execution_count": null,
   "metadata": {},
   "outputs": [],
   "source": [
    "df.loc['student_1', 'values_1']"
   ]
  },
  {
   "cell_type": "code",
   "execution_count": null,
   "metadata": {},
   "outputs": [
    {
     "data": {
      "text/plain": [
       "values_1    1.2\n",
       "values_2    1.2\n",
       "values_3    1.2\n",
       "group         A\n",
       "Name: student_1, dtype: object"
      ]
     },
     "execution_count": 7,
     "metadata": {},
     "output_type": "execute_result"
    }
   ],
   "source": [
    "df.loc['student_1', :]"
   ]
  },
  {
   "cell_type": "code",
   "execution_count": null,
   "metadata": {},
   "outputs": [
    {
     "data": {
      "text/html": [
       "<div>\n",
       "<style scoped>\n",
       "    .dataframe tbody tr th:only-of-type {\n",
       "        vertical-align: middle;\n",
       "    }\n",
       "\n",
       "    .dataframe tbody tr th {\n",
       "        vertical-align: top;\n",
       "    }\n",
       "\n",
       "    .dataframe thead th {\n",
       "        text-align: right;\n",
       "    }\n",
       "</style>\n",
       "<table border=\"1\" class=\"dataframe\">\n",
       "  <thead>\n",
       "    <tr style=\"text-align: right;\">\n",
       "      <th></th>\n",
       "      <th>values_1</th>\n",
       "      <th>values_2</th>\n",
       "    </tr>\n",
       "  </thead>\n",
       "  <tbody>\n",
       "    <tr>\n",
       "      <th>student_1</th>\n",
       "      <td>1.2</td>\n",
       "      <td>1.2</td>\n",
       "    </tr>\n",
       "    <tr>\n",
       "      <th>student_2</th>\n",
       "      <td>1.2</td>\n",
       "      <td>1.2</td>\n",
       "    </tr>\n",
       "  </tbody>\n",
       "</table>\n",
       "</div>"
      ],
      "text/plain": [
       "           values_1  values_2\n",
       "student_1       1.2       1.2\n",
       "student_2       1.2       1.2"
      ]
     },
     "execution_count": 13,
     "metadata": {},
     "output_type": "execute_result"
    }
   ],
   "source": [
    "df.loc[['student_1', 'student_2'], ['values_1', 'values_2']]"
   ]
  },
  {
   "cell_type": "markdown",
   "metadata": {},
   "source": [
    "#### Как выбрать строки по нескольким условиям, используя Pandas loc\n",
    "\n",
    "**Метод 1: выберите строки, которые соответствуют нескольким условиям**\n",
    "\n",
    "`df.loc[((df['col1'] == 'A') &(df['col2' ] == 'G'))]`\n",
    "\n",
    "**Способ 2: выберите строки, которые соответствуют одному из нескольких условий**\n",
    "\n",
    "`df.loc[((df['col1'] > 10) |(df['col2' ] < 8))] `\n"
   ]
  },
  {
   "cell_type": "markdown",
   "metadata": {},
   "source": [
    "#### DataFrame.iloc[]\n",
    "\n",
    ".iloc[] это индексатор, используемый для индексации данных на основе целочисленного местоположения в DataFrame. Это позволяет пользователям выбирать определенные строки и столбцы, предоставляя целочисленные индексы, что делает его ценным инструментом для манипулирования данными и извлечения на основе числовых позиций во фрейме данных. Этот индексатор особенно полезен, когда вы хотите получить доступ к данным или манипулировать ими, используя позиционное индексирование на основе целых чисел, а не меток."
   ]
  },
  {
   "cell_type": "code",
   "execution_count": null,
   "metadata": {},
   "outputs": [],
   "source": [
    "df.iloc[2:7, 1:3] #2:7 - диапазон строк 1:3 - диапозон столбцов"
   ]
  },
  {
   "cell_type": "code",
   "execution_count": null,
   "metadata": {},
   "outputs": [],
   "source": [
    "df.iloc[0] #про порядок (обращаемся к нулевому элементу)"
   ]
  }
 ],
 "metadata": {
  "kernelspec": {
   "display_name": "Python 3",
   "language": "python",
   "name": "python3"
  },
  "language_info": {
   "codemirror_mode": {
    "name": "ipython",
    "version": 3
   },
   "file_extension": ".py",
   "mimetype": "text/x-python",
   "name": "python",
   "nbconvert_exporter": "python",
   "pygments_lexer": "ipython3",
   "version": "3.11.5"
  }
 },
 "nbformat": 4,
 "nbformat_minor": 2
}
